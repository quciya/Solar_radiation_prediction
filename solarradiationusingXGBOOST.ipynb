{
  "nbformat": 4,
  "nbformat_minor": 0,
  "metadata": {
    "colab": {
      "name": "solarradiationusingXGBOOST.ipynb",
      "provenance": [],
      "authorship_tag": "ABX9TyNv9fWZJT13fOQd1Vc3x430",
      "include_colab_link": true
    },
    "kernelspec": {
      "name": "python3",
      "display_name": "Python 3"
    },
    "language_info": {
      "name": "python"
    }
  },
  "cells": [
    {
      "cell_type": "markdown",
      "metadata": {
        "id": "view-in-github",
        "colab_type": "text"
      },
      "source": [
        "<a href=\"https://colab.research.google.com/github/quciya/Solar_radiation_prediction/blob/main/solarradiationusingXGBOOST.ipynb\" target=\"_parent\"><img src=\"https://colab.research.google.com/assets/colab-badge.svg\" alt=\"Open In Colab\"/></a>"
      ]
    },
    {
      "cell_type": "code",
      "execution_count": null,
      "metadata": {
        "colab": {
          "base_uri": "https://localhost:8080/"
        },
        "id": "HIZ6vAKk0FBW",
        "outputId": "02f4e8cd-9bab-4b5c-d46b-d1b33fe9010d"
      },
      "outputs": [
        {
          "output_type": "stream",
          "name": "stdout",
          "text": [
            "Mounted at /content/drive\n"
          ]
        }
      ],
      "source": [
        "from google.colab import drive\n",
        "drive.mount('/content/drive',force_remount=True)"
      ]
    },
    {
      "cell_type": "code",
      "source": [
        "%tensorflow_version 2.x\n",
        "! pip install h5py==2.10"
      ],
      "metadata": {
        "colab": {
          "base_uri": "https://localhost:8080/"
        },
        "id": "db99-klM0zT0",
        "outputId": "f31bbf0c-257b-4cc0-efee-1b9be5b70d42"
      },
      "execution_count": null,
      "outputs": [
        {
          "output_type": "stream",
          "name": "stdout",
          "text": [
            "Looking in indexes: https://pypi.org/simple, https://us-python.pkg.dev/colab-wheels/public/simple/\n",
            "Collecting h5py==2.10\n",
            "  Downloading h5py-2.10.0-cp37-cp37m-manylinux1_x86_64.whl (2.9 MB)\n",
            "\u001b[K     |████████████████████████████████| 2.9 MB 7.6 MB/s \n",
            "\u001b[?25hRequirement already satisfied: numpy>=1.7 in /usr/local/lib/python3.7/dist-packages (from h5py==2.10) (1.21.6)\n",
            "Requirement already satisfied: six in /usr/local/lib/python3.7/dist-packages (from h5py==2.10) (1.15.0)\n",
            "Installing collected packages: h5py\n",
            "  Attempting uninstall: h5py\n",
            "    Found existing installation: h5py 3.1.0\n",
            "    Uninstalling h5py-3.1.0:\n",
            "      Successfully uninstalled h5py-3.1.0\n",
            "Successfully installed h5py-2.10.0\n"
          ]
        }
      ]
    },
    {
      "cell_type": "code",
      "source": [
        "pip install --upgrade xlrd"
      ],
      "metadata": {
        "colab": {
          "base_uri": "https://localhost:8080/"
        },
        "id": "Qt1BxlfwB4Kf",
        "outputId": "2d0de9bd-55ef-475d-c502-94f75eb0ba36"
      },
      "execution_count": null,
      "outputs": [
        {
          "output_type": "stream",
          "name": "stdout",
          "text": [
            "Looking in indexes: https://pypi.org/simple, https://us-python.pkg.dev/colab-wheels/public/simple/\n",
            "Requirement already satisfied: xlrd in /usr/local/lib/python3.7/dist-packages (1.1.0)\n",
            "Collecting xlrd\n",
            "  Downloading xlrd-2.0.1-py2.py3-none-any.whl (96 kB)\n",
            "\u001b[K     |████████████████████████████████| 96 kB 3.5 MB/s \n",
            "\u001b[?25hInstalling collected packages: xlrd\n",
            "  Attempting uninstall: xlrd\n",
            "    Found existing installation: xlrd 1.1.0\n",
            "    Uninstalling xlrd-1.1.0:\n",
            "      Successfully uninstalled xlrd-1.1.0\n",
            "Successfully installed xlrd-2.0.1\n"
          ]
        }
      ]
    },
    {
      "cell_type": "code",
      "source": [
        "import pandas as pd\n",
        "import numpy as np\n",
        "df = pd.read_excel('/content/drive/MyDrive/Solar_radiation/Dataset/Pokhara_data_thesis.xlsx')\n",
        "df.head(20)"
      ],
      "metadata": {
        "id": "vYSRvbLu-3ZR",
        "colab": {
          "base_uri": "https://localhost:8080/",
          "height": 677
        },
        "outputId": "e66862a6-ab9a-4120-d4ab-4cdeef520cfa"
      },
      "execution_count": null,
      "outputs": [
        {
          "output_type": "execute_result",
          "data": {
            "text/plain": [
              "    S.No Susshine_Hour_(n)  Daylength(N)  Radiation MJ/M2/Day Rainfall (mm)  \\\n",
              "0    1.0               DNA           NaN             5.165280           0.0   \n",
              "1    2.0               3.3           NaN             5.033088           0.0   \n",
              "2    3.0               1.0           NaN             5.278930           0.0   \n",
              "3    4.0               4.8           NaN             6.117552           0.0   \n",
              "4    5.0               4.6           NaN             6.509232           0.0   \n",
              "5    6.0               7.1           NaN             6.544116           0.0   \n",
              "6    7.0               7.3           NaN             6.775856           0.0   \n",
              "7    8.0               3.5           NaN             5.978016           0.0   \n",
              "8    9.0               3.6           NaN             7.364808           0.0   \n",
              "9   10.0               5.5           NaN             5.929004           0.0   \n",
              "10  11.0               7.8           NaN             6.004944           0.0   \n",
              "11  12.0               6.2           NaN             6.044653           0.0   \n",
              "12  13.0               7.9           NaN             5.347656           0.0   \n",
              "13  14.0               8.2           NaN             5.282172           0.0   \n",
              "14  15.0               7.6           NaN             4.970664           0.0   \n",
              "15  16.0               0.5           NaN             6.133090           0.0   \n",
              "16  17.0               7.8           NaN             6.056352           0.0   \n",
              "17  18.0               8.3           NaN             6.337872           0.0   \n",
              "18  19.0               8.3           NaN             6.151644           4.2   \n",
              "19  20.0               6.7           NaN             6.785856           0.0   \n",
              "\n",
              "   R.H(8:45)  R.H(17:45)  T.max  T.min  Wind Speed  \n",
              "0       86.1        57.1   20.0    2.5       -99.9  \n",
              "1       88.2        65.0   19.0    2.0         1.5  \n",
              "2       96.8        71.8   18.0    1.8         0.7  \n",
              "3       88.9        76.9   17.0    4.4         0.4  \n",
              "4       91.2        61.4   18.2    4.0         0.6  \n",
              "5       96.9        67.1   17.0    2.2         1.0  \n",
              "6       96.9        67.1   17.5    1.0         0.6  \n",
              "7       96.9        76.1   16.3    1.5         0.5  \n",
              "8       96.7        70.0   16.5    1.5         0.6  \n",
              "9       96.9        56.8   18.8    1.5         0.4  \n",
              "10      85.9        69.6   17.1    4.0         0.5  \n",
              "11      91.4        66.1   16.5    4.5         0.5  \n",
              "12      97.0        76.2   18.2    3.0         0.6  \n",
              "13     100.0        78.0   18.5    4.0         0.5  \n",
              "14      97.2        68.7   18.8    4.0         0.4  \n",
              "15     100.0        72.2   18.5    3.0         0.4  \n",
              "16      97.3        69.3   19.0    5.5         0.5  \n",
              "17      89.9        97.3   12.6    7.8         0.4  \n",
              "18     100.0        62.6   18.0    2.5         0.3  \n",
              "19      92.8        62.3   19.0    3.6         0.6  "
            ],
            "text/html": [
              "\n",
              "  <div id=\"df-674be3e3-6396-4e23-a4ec-4f9b925c776c\">\n",
              "    <div class=\"colab-df-container\">\n",
              "      <div>\n",
              "<style scoped>\n",
              "    .dataframe tbody tr th:only-of-type {\n",
              "        vertical-align: middle;\n",
              "    }\n",
              "\n",
              "    .dataframe tbody tr th {\n",
              "        vertical-align: top;\n",
              "    }\n",
              "\n",
              "    .dataframe thead th {\n",
              "        text-align: right;\n",
              "    }\n",
              "</style>\n",
              "<table border=\"1\" class=\"dataframe\">\n",
              "  <thead>\n",
              "    <tr style=\"text-align: right;\">\n",
              "      <th></th>\n",
              "      <th>S.No</th>\n",
              "      <th>Susshine_Hour_(n)</th>\n",
              "      <th>Daylength(N)</th>\n",
              "      <th>Radiation MJ/M2/Day</th>\n",
              "      <th>Rainfall (mm)</th>\n",
              "      <th>R.H(8:45)</th>\n",
              "      <th>R.H(17:45)</th>\n",
              "      <th>T.max</th>\n",
              "      <th>T.min</th>\n",
              "      <th>Wind Speed</th>\n",
              "    </tr>\n",
              "  </thead>\n",
              "  <tbody>\n",
              "    <tr>\n",
              "      <th>0</th>\n",
              "      <td>1.0</td>\n",
              "      <td>DNA</td>\n",
              "      <td>NaN</td>\n",
              "      <td>5.165280</td>\n",
              "      <td>0.0</td>\n",
              "      <td>86.1</td>\n",
              "      <td>57.1</td>\n",
              "      <td>20.0</td>\n",
              "      <td>2.5</td>\n",
              "      <td>-99.9</td>\n",
              "    </tr>\n",
              "    <tr>\n",
              "      <th>1</th>\n",
              "      <td>2.0</td>\n",
              "      <td>3.3</td>\n",
              "      <td>NaN</td>\n",
              "      <td>5.033088</td>\n",
              "      <td>0.0</td>\n",
              "      <td>88.2</td>\n",
              "      <td>65.0</td>\n",
              "      <td>19.0</td>\n",
              "      <td>2.0</td>\n",
              "      <td>1.5</td>\n",
              "    </tr>\n",
              "    <tr>\n",
              "      <th>2</th>\n",
              "      <td>3.0</td>\n",
              "      <td>1.0</td>\n",
              "      <td>NaN</td>\n",
              "      <td>5.278930</td>\n",
              "      <td>0.0</td>\n",
              "      <td>96.8</td>\n",
              "      <td>71.8</td>\n",
              "      <td>18.0</td>\n",
              "      <td>1.8</td>\n",
              "      <td>0.7</td>\n",
              "    </tr>\n",
              "    <tr>\n",
              "      <th>3</th>\n",
              "      <td>4.0</td>\n",
              "      <td>4.8</td>\n",
              "      <td>NaN</td>\n",
              "      <td>6.117552</td>\n",
              "      <td>0.0</td>\n",
              "      <td>88.9</td>\n",
              "      <td>76.9</td>\n",
              "      <td>17.0</td>\n",
              "      <td>4.4</td>\n",
              "      <td>0.4</td>\n",
              "    </tr>\n",
              "    <tr>\n",
              "      <th>4</th>\n",
              "      <td>5.0</td>\n",
              "      <td>4.6</td>\n",
              "      <td>NaN</td>\n",
              "      <td>6.509232</td>\n",
              "      <td>0.0</td>\n",
              "      <td>91.2</td>\n",
              "      <td>61.4</td>\n",
              "      <td>18.2</td>\n",
              "      <td>4.0</td>\n",
              "      <td>0.6</td>\n",
              "    </tr>\n",
              "    <tr>\n",
              "      <th>5</th>\n",
              "      <td>6.0</td>\n",
              "      <td>7.1</td>\n",
              "      <td>NaN</td>\n",
              "      <td>6.544116</td>\n",
              "      <td>0.0</td>\n",
              "      <td>96.9</td>\n",
              "      <td>67.1</td>\n",
              "      <td>17.0</td>\n",
              "      <td>2.2</td>\n",
              "      <td>1.0</td>\n",
              "    </tr>\n",
              "    <tr>\n",
              "      <th>6</th>\n",
              "      <td>7.0</td>\n",
              "      <td>7.3</td>\n",
              "      <td>NaN</td>\n",
              "      <td>6.775856</td>\n",
              "      <td>0.0</td>\n",
              "      <td>96.9</td>\n",
              "      <td>67.1</td>\n",
              "      <td>17.5</td>\n",
              "      <td>1.0</td>\n",
              "      <td>0.6</td>\n",
              "    </tr>\n",
              "    <tr>\n",
              "      <th>7</th>\n",
              "      <td>8.0</td>\n",
              "      <td>3.5</td>\n",
              "      <td>NaN</td>\n",
              "      <td>5.978016</td>\n",
              "      <td>0.0</td>\n",
              "      <td>96.9</td>\n",
              "      <td>76.1</td>\n",
              "      <td>16.3</td>\n",
              "      <td>1.5</td>\n",
              "      <td>0.5</td>\n",
              "    </tr>\n",
              "    <tr>\n",
              "      <th>8</th>\n",
              "      <td>9.0</td>\n",
              "      <td>3.6</td>\n",
              "      <td>NaN</td>\n",
              "      <td>7.364808</td>\n",
              "      <td>0.0</td>\n",
              "      <td>96.7</td>\n",
              "      <td>70.0</td>\n",
              "      <td>16.5</td>\n",
              "      <td>1.5</td>\n",
              "      <td>0.6</td>\n",
              "    </tr>\n",
              "    <tr>\n",
              "      <th>9</th>\n",
              "      <td>10.0</td>\n",
              "      <td>5.5</td>\n",
              "      <td>NaN</td>\n",
              "      <td>5.929004</td>\n",
              "      <td>0.0</td>\n",
              "      <td>96.9</td>\n",
              "      <td>56.8</td>\n",
              "      <td>18.8</td>\n",
              "      <td>1.5</td>\n",
              "      <td>0.4</td>\n",
              "    </tr>\n",
              "    <tr>\n",
              "      <th>10</th>\n",
              "      <td>11.0</td>\n",
              "      <td>7.8</td>\n",
              "      <td>NaN</td>\n",
              "      <td>6.004944</td>\n",
              "      <td>0.0</td>\n",
              "      <td>85.9</td>\n",
              "      <td>69.6</td>\n",
              "      <td>17.1</td>\n",
              "      <td>4.0</td>\n",
              "      <td>0.5</td>\n",
              "    </tr>\n",
              "    <tr>\n",
              "      <th>11</th>\n",
              "      <td>12.0</td>\n",
              "      <td>6.2</td>\n",
              "      <td>NaN</td>\n",
              "      <td>6.044653</td>\n",
              "      <td>0.0</td>\n",
              "      <td>91.4</td>\n",
              "      <td>66.1</td>\n",
              "      <td>16.5</td>\n",
              "      <td>4.5</td>\n",
              "      <td>0.5</td>\n",
              "    </tr>\n",
              "    <tr>\n",
              "      <th>12</th>\n",
              "      <td>13.0</td>\n",
              "      <td>7.9</td>\n",
              "      <td>NaN</td>\n",
              "      <td>5.347656</td>\n",
              "      <td>0.0</td>\n",
              "      <td>97.0</td>\n",
              "      <td>76.2</td>\n",
              "      <td>18.2</td>\n",
              "      <td>3.0</td>\n",
              "      <td>0.6</td>\n",
              "    </tr>\n",
              "    <tr>\n",
              "      <th>13</th>\n",
              "      <td>14.0</td>\n",
              "      <td>8.2</td>\n",
              "      <td>NaN</td>\n",
              "      <td>5.282172</td>\n",
              "      <td>0.0</td>\n",
              "      <td>100.0</td>\n",
              "      <td>78.0</td>\n",
              "      <td>18.5</td>\n",
              "      <td>4.0</td>\n",
              "      <td>0.5</td>\n",
              "    </tr>\n",
              "    <tr>\n",
              "      <th>14</th>\n",
              "      <td>15.0</td>\n",
              "      <td>7.6</td>\n",
              "      <td>NaN</td>\n",
              "      <td>4.970664</td>\n",
              "      <td>0.0</td>\n",
              "      <td>97.2</td>\n",
              "      <td>68.7</td>\n",
              "      <td>18.8</td>\n",
              "      <td>4.0</td>\n",
              "      <td>0.4</td>\n",
              "    </tr>\n",
              "    <tr>\n",
              "      <th>15</th>\n",
              "      <td>16.0</td>\n",
              "      <td>0.5</td>\n",
              "      <td>NaN</td>\n",
              "      <td>6.133090</td>\n",
              "      <td>0.0</td>\n",
              "      <td>100.0</td>\n",
              "      <td>72.2</td>\n",
              "      <td>18.5</td>\n",
              "      <td>3.0</td>\n",
              "      <td>0.4</td>\n",
              "    </tr>\n",
              "    <tr>\n",
              "      <th>16</th>\n",
              "      <td>17.0</td>\n",
              "      <td>7.8</td>\n",
              "      <td>NaN</td>\n",
              "      <td>6.056352</td>\n",
              "      <td>0.0</td>\n",
              "      <td>97.3</td>\n",
              "      <td>69.3</td>\n",
              "      <td>19.0</td>\n",
              "      <td>5.5</td>\n",
              "      <td>0.5</td>\n",
              "    </tr>\n",
              "    <tr>\n",
              "      <th>17</th>\n",
              "      <td>18.0</td>\n",
              "      <td>8.3</td>\n",
              "      <td>NaN</td>\n",
              "      <td>6.337872</td>\n",
              "      <td>0.0</td>\n",
              "      <td>89.9</td>\n",
              "      <td>97.3</td>\n",
              "      <td>12.6</td>\n",
              "      <td>7.8</td>\n",
              "      <td>0.4</td>\n",
              "    </tr>\n",
              "    <tr>\n",
              "      <th>18</th>\n",
              "      <td>19.0</td>\n",
              "      <td>8.3</td>\n",
              "      <td>NaN</td>\n",
              "      <td>6.151644</td>\n",
              "      <td>4.2</td>\n",
              "      <td>100.0</td>\n",
              "      <td>62.6</td>\n",
              "      <td>18.0</td>\n",
              "      <td>2.5</td>\n",
              "      <td>0.3</td>\n",
              "    </tr>\n",
              "    <tr>\n",
              "      <th>19</th>\n",
              "      <td>20.0</td>\n",
              "      <td>6.7</td>\n",
              "      <td>NaN</td>\n",
              "      <td>6.785856</td>\n",
              "      <td>0.0</td>\n",
              "      <td>92.8</td>\n",
              "      <td>62.3</td>\n",
              "      <td>19.0</td>\n",
              "      <td>3.6</td>\n",
              "      <td>0.6</td>\n",
              "    </tr>\n",
              "  </tbody>\n",
              "</table>\n",
              "</div>\n",
              "      <button class=\"colab-df-convert\" onclick=\"convertToInteractive('df-674be3e3-6396-4e23-a4ec-4f9b925c776c')\"\n",
              "              title=\"Convert this dataframe to an interactive table.\"\n",
              "              style=\"display:none;\">\n",
              "        \n",
              "  <svg xmlns=\"http://www.w3.org/2000/svg\" height=\"24px\"viewBox=\"0 0 24 24\"\n",
              "       width=\"24px\">\n",
              "    <path d=\"M0 0h24v24H0V0z\" fill=\"none\"/>\n",
              "    <path d=\"M18.56 5.44l.94 2.06.94-2.06 2.06-.94-2.06-.94-.94-2.06-.94 2.06-2.06.94zm-11 1L8.5 8.5l.94-2.06 2.06-.94-2.06-.94L8.5 2.5l-.94 2.06-2.06.94zm10 10l.94 2.06.94-2.06 2.06-.94-2.06-.94-.94-2.06-.94 2.06-2.06.94z\"/><path d=\"M17.41 7.96l-1.37-1.37c-.4-.4-.92-.59-1.43-.59-.52 0-1.04.2-1.43.59L10.3 9.45l-7.72 7.72c-.78.78-.78 2.05 0 2.83L4 21.41c.39.39.9.59 1.41.59.51 0 1.02-.2 1.41-.59l7.78-7.78 2.81-2.81c.8-.78.8-2.07 0-2.86zM5.41 20L4 18.59l7.72-7.72 1.47 1.35L5.41 20z\"/>\n",
              "  </svg>\n",
              "      </button>\n",
              "      \n",
              "  <style>\n",
              "    .colab-df-container {\n",
              "      display:flex;\n",
              "      flex-wrap:wrap;\n",
              "      gap: 12px;\n",
              "    }\n",
              "\n",
              "    .colab-df-convert {\n",
              "      background-color: #E8F0FE;\n",
              "      border: none;\n",
              "      border-radius: 50%;\n",
              "      cursor: pointer;\n",
              "      display: none;\n",
              "      fill: #1967D2;\n",
              "      height: 32px;\n",
              "      padding: 0 0 0 0;\n",
              "      width: 32px;\n",
              "    }\n",
              "\n",
              "    .colab-df-convert:hover {\n",
              "      background-color: #E2EBFA;\n",
              "      box-shadow: 0px 1px 2px rgba(60, 64, 67, 0.3), 0px 1px 3px 1px rgba(60, 64, 67, 0.15);\n",
              "      fill: #174EA6;\n",
              "    }\n",
              "\n",
              "    [theme=dark] .colab-df-convert {\n",
              "      background-color: #3B4455;\n",
              "      fill: #D2E3FC;\n",
              "    }\n",
              "\n",
              "    [theme=dark] .colab-df-convert:hover {\n",
              "      background-color: #434B5C;\n",
              "      box-shadow: 0px 1px 3px 1px rgba(0, 0, 0, 0.15);\n",
              "      filter: drop-shadow(0px 1px 2px rgba(0, 0, 0, 0.3));\n",
              "      fill: #FFFFFF;\n",
              "    }\n",
              "  </style>\n",
              "\n",
              "      <script>\n",
              "        const buttonEl =\n",
              "          document.querySelector('#df-674be3e3-6396-4e23-a4ec-4f9b925c776c button.colab-df-convert');\n",
              "        buttonEl.style.display =\n",
              "          google.colab.kernel.accessAllowed ? 'block' : 'none';\n",
              "\n",
              "        async function convertToInteractive(key) {\n",
              "          const element = document.querySelector('#df-674be3e3-6396-4e23-a4ec-4f9b925c776c');\n",
              "          const dataTable =\n",
              "            await google.colab.kernel.invokeFunction('convertToInteractive',\n",
              "                                                     [key], {});\n",
              "          if (!dataTable) return;\n",
              "\n",
              "          const docLinkHtml = 'Like what you see? Visit the ' +\n",
              "            '<a target=\"_blank\" href=https://colab.research.google.com/notebooks/data_table.ipynb>data table notebook</a>'\n",
              "            + ' to learn more about interactive tables.';\n",
              "          element.innerHTML = '';\n",
              "          dataTable['output_type'] = 'display_data';\n",
              "          await google.colab.output.renderOutput(dataTable, element);\n",
              "          const docLink = document.createElement('div');\n",
              "          docLink.innerHTML = docLinkHtml;\n",
              "          element.appendChild(docLink);\n",
              "        }\n",
              "      </script>\n",
              "    </div>\n",
              "  </div>\n",
              "  "
            ]
          },
          "metadata": {},
          "execution_count": 4
        }
      ]
    },
    {
      "cell_type": "code",
      "source": [
        "df['Daylength(N)'] = df['Daylength(N)'].replace(np.nan, 0)\n",
        "df['R.H(8:45)'] = df['R.H(8:45)'].replace(np.nan, 0)\n",
        "df.head(20)"
      ],
      "metadata": {
        "colab": {
          "base_uri": "https://localhost:8080/",
          "height": 677
        },
        "id": "bUfhdgSQVlLg",
        "outputId": "c5e6102b-3887-42fa-ddc1-329b471d22a8"
      },
      "execution_count": null,
      "outputs": [
        {
          "output_type": "execute_result",
          "data": {
            "text/plain": [
              "    S.No Susshine_Hour_(n)  Daylength(N)  Radiation MJ/M2/Day Rainfall (mm)  \\\n",
              "0    1.0               DNA           0.0             5.165280           0.0   \n",
              "1    2.0               3.3           0.0             5.033088           0.0   \n",
              "2    3.0               1.0           0.0             5.278930           0.0   \n",
              "3    4.0               4.8           0.0             6.117552           0.0   \n",
              "4    5.0               4.6           0.0             6.509232           0.0   \n",
              "5    6.0               7.1           0.0             6.544116           0.0   \n",
              "6    7.0               7.3           0.0             6.775856           0.0   \n",
              "7    8.0               3.5           0.0             5.978016           0.0   \n",
              "8    9.0               3.6           0.0             7.364808           0.0   \n",
              "9   10.0               5.5           0.0             5.929004           0.0   \n",
              "10  11.0               7.8           0.0             6.004944           0.0   \n",
              "11  12.0               6.2           0.0             6.044653           0.0   \n",
              "12  13.0               7.9           0.0             5.347656           0.0   \n",
              "13  14.0               8.2           0.0             5.282172           0.0   \n",
              "14  15.0               7.6           0.0             4.970664           0.0   \n",
              "15  16.0               0.5           0.0             6.133090           0.0   \n",
              "16  17.0               7.8           0.0             6.056352           0.0   \n",
              "17  18.0               8.3           0.0             6.337872           0.0   \n",
              "18  19.0               8.3           0.0             6.151644           4.2   \n",
              "19  20.0               6.7           0.0             6.785856           0.0   \n",
              "\n",
              "   R.H(8:45)  R.H(17:45)  T.max  T.min  Wind Speed  \n",
              "0       86.1        57.1   20.0    2.5       -99.9  \n",
              "1       88.2        65.0   19.0    2.0         1.5  \n",
              "2       96.8        71.8   18.0    1.8         0.7  \n",
              "3       88.9        76.9   17.0    4.4         0.4  \n",
              "4       91.2        61.4   18.2    4.0         0.6  \n",
              "5       96.9        67.1   17.0    2.2         1.0  \n",
              "6       96.9        67.1   17.5    1.0         0.6  \n",
              "7       96.9        76.1   16.3    1.5         0.5  \n",
              "8       96.7        70.0   16.5    1.5         0.6  \n",
              "9       96.9        56.8   18.8    1.5         0.4  \n",
              "10      85.9        69.6   17.1    4.0         0.5  \n",
              "11      91.4        66.1   16.5    4.5         0.5  \n",
              "12      97.0        76.2   18.2    3.0         0.6  \n",
              "13     100.0        78.0   18.5    4.0         0.5  \n",
              "14      97.2        68.7   18.8    4.0         0.4  \n",
              "15     100.0        72.2   18.5    3.0         0.4  \n",
              "16      97.3        69.3   19.0    5.5         0.5  \n",
              "17      89.9        97.3   12.6    7.8         0.4  \n",
              "18     100.0        62.6   18.0    2.5         0.3  \n",
              "19      92.8        62.3   19.0    3.6         0.6  "
            ],
            "text/html": [
              "\n",
              "  <div id=\"df-735ca688-504b-45ba-afaf-fb2a51184c0a\">\n",
              "    <div class=\"colab-df-container\">\n",
              "      <div>\n",
              "<style scoped>\n",
              "    .dataframe tbody tr th:only-of-type {\n",
              "        vertical-align: middle;\n",
              "    }\n",
              "\n",
              "    .dataframe tbody tr th {\n",
              "        vertical-align: top;\n",
              "    }\n",
              "\n",
              "    .dataframe thead th {\n",
              "        text-align: right;\n",
              "    }\n",
              "</style>\n",
              "<table border=\"1\" class=\"dataframe\">\n",
              "  <thead>\n",
              "    <tr style=\"text-align: right;\">\n",
              "      <th></th>\n",
              "      <th>S.No</th>\n",
              "      <th>Susshine_Hour_(n)</th>\n",
              "      <th>Daylength(N)</th>\n",
              "      <th>Radiation MJ/M2/Day</th>\n",
              "      <th>Rainfall (mm)</th>\n",
              "      <th>R.H(8:45)</th>\n",
              "      <th>R.H(17:45)</th>\n",
              "      <th>T.max</th>\n",
              "      <th>T.min</th>\n",
              "      <th>Wind Speed</th>\n",
              "    </tr>\n",
              "  </thead>\n",
              "  <tbody>\n",
              "    <tr>\n",
              "      <th>0</th>\n",
              "      <td>1.0</td>\n",
              "      <td>DNA</td>\n",
              "      <td>0.0</td>\n",
              "      <td>5.165280</td>\n",
              "      <td>0.0</td>\n",
              "      <td>86.1</td>\n",
              "      <td>57.1</td>\n",
              "      <td>20.0</td>\n",
              "      <td>2.5</td>\n",
              "      <td>-99.9</td>\n",
              "    </tr>\n",
              "    <tr>\n",
              "      <th>1</th>\n",
              "      <td>2.0</td>\n",
              "      <td>3.3</td>\n",
              "      <td>0.0</td>\n",
              "      <td>5.033088</td>\n",
              "      <td>0.0</td>\n",
              "      <td>88.2</td>\n",
              "      <td>65.0</td>\n",
              "      <td>19.0</td>\n",
              "      <td>2.0</td>\n",
              "      <td>1.5</td>\n",
              "    </tr>\n",
              "    <tr>\n",
              "      <th>2</th>\n",
              "      <td>3.0</td>\n",
              "      <td>1.0</td>\n",
              "      <td>0.0</td>\n",
              "      <td>5.278930</td>\n",
              "      <td>0.0</td>\n",
              "      <td>96.8</td>\n",
              "      <td>71.8</td>\n",
              "      <td>18.0</td>\n",
              "      <td>1.8</td>\n",
              "      <td>0.7</td>\n",
              "    </tr>\n",
              "    <tr>\n",
              "      <th>3</th>\n",
              "      <td>4.0</td>\n",
              "      <td>4.8</td>\n",
              "      <td>0.0</td>\n",
              "      <td>6.117552</td>\n",
              "      <td>0.0</td>\n",
              "      <td>88.9</td>\n",
              "      <td>76.9</td>\n",
              "      <td>17.0</td>\n",
              "      <td>4.4</td>\n",
              "      <td>0.4</td>\n",
              "    </tr>\n",
              "    <tr>\n",
              "      <th>4</th>\n",
              "      <td>5.0</td>\n",
              "      <td>4.6</td>\n",
              "      <td>0.0</td>\n",
              "      <td>6.509232</td>\n",
              "      <td>0.0</td>\n",
              "      <td>91.2</td>\n",
              "      <td>61.4</td>\n",
              "      <td>18.2</td>\n",
              "      <td>4.0</td>\n",
              "      <td>0.6</td>\n",
              "    </tr>\n",
              "    <tr>\n",
              "      <th>5</th>\n",
              "      <td>6.0</td>\n",
              "      <td>7.1</td>\n",
              "      <td>0.0</td>\n",
              "      <td>6.544116</td>\n",
              "      <td>0.0</td>\n",
              "      <td>96.9</td>\n",
              "      <td>67.1</td>\n",
              "      <td>17.0</td>\n",
              "      <td>2.2</td>\n",
              "      <td>1.0</td>\n",
              "    </tr>\n",
              "    <tr>\n",
              "      <th>6</th>\n",
              "      <td>7.0</td>\n",
              "      <td>7.3</td>\n",
              "      <td>0.0</td>\n",
              "      <td>6.775856</td>\n",
              "      <td>0.0</td>\n",
              "      <td>96.9</td>\n",
              "      <td>67.1</td>\n",
              "      <td>17.5</td>\n",
              "      <td>1.0</td>\n",
              "      <td>0.6</td>\n",
              "    </tr>\n",
              "    <tr>\n",
              "      <th>7</th>\n",
              "      <td>8.0</td>\n",
              "      <td>3.5</td>\n",
              "      <td>0.0</td>\n",
              "      <td>5.978016</td>\n",
              "      <td>0.0</td>\n",
              "      <td>96.9</td>\n",
              "      <td>76.1</td>\n",
              "      <td>16.3</td>\n",
              "      <td>1.5</td>\n",
              "      <td>0.5</td>\n",
              "    </tr>\n",
              "    <tr>\n",
              "      <th>8</th>\n",
              "      <td>9.0</td>\n",
              "      <td>3.6</td>\n",
              "      <td>0.0</td>\n",
              "      <td>7.364808</td>\n",
              "      <td>0.0</td>\n",
              "      <td>96.7</td>\n",
              "      <td>70.0</td>\n",
              "      <td>16.5</td>\n",
              "      <td>1.5</td>\n",
              "      <td>0.6</td>\n",
              "    </tr>\n",
              "    <tr>\n",
              "      <th>9</th>\n",
              "      <td>10.0</td>\n",
              "      <td>5.5</td>\n",
              "      <td>0.0</td>\n",
              "      <td>5.929004</td>\n",
              "      <td>0.0</td>\n",
              "      <td>96.9</td>\n",
              "      <td>56.8</td>\n",
              "      <td>18.8</td>\n",
              "      <td>1.5</td>\n",
              "      <td>0.4</td>\n",
              "    </tr>\n",
              "    <tr>\n",
              "      <th>10</th>\n",
              "      <td>11.0</td>\n",
              "      <td>7.8</td>\n",
              "      <td>0.0</td>\n",
              "      <td>6.004944</td>\n",
              "      <td>0.0</td>\n",
              "      <td>85.9</td>\n",
              "      <td>69.6</td>\n",
              "      <td>17.1</td>\n",
              "      <td>4.0</td>\n",
              "      <td>0.5</td>\n",
              "    </tr>\n",
              "    <tr>\n",
              "      <th>11</th>\n",
              "      <td>12.0</td>\n",
              "      <td>6.2</td>\n",
              "      <td>0.0</td>\n",
              "      <td>6.044653</td>\n",
              "      <td>0.0</td>\n",
              "      <td>91.4</td>\n",
              "      <td>66.1</td>\n",
              "      <td>16.5</td>\n",
              "      <td>4.5</td>\n",
              "      <td>0.5</td>\n",
              "    </tr>\n",
              "    <tr>\n",
              "      <th>12</th>\n",
              "      <td>13.0</td>\n",
              "      <td>7.9</td>\n",
              "      <td>0.0</td>\n",
              "      <td>5.347656</td>\n",
              "      <td>0.0</td>\n",
              "      <td>97.0</td>\n",
              "      <td>76.2</td>\n",
              "      <td>18.2</td>\n",
              "      <td>3.0</td>\n",
              "      <td>0.6</td>\n",
              "    </tr>\n",
              "    <tr>\n",
              "      <th>13</th>\n",
              "      <td>14.0</td>\n",
              "      <td>8.2</td>\n",
              "      <td>0.0</td>\n",
              "      <td>5.282172</td>\n",
              "      <td>0.0</td>\n",
              "      <td>100.0</td>\n",
              "      <td>78.0</td>\n",
              "      <td>18.5</td>\n",
              "      <td>4.0</td>\n",
              "      <td>0.5</td>\n",
              "    </tr>\n",
              "    <tr>\n",
              "      <th>14</th>\n",
              "      <td>15.0</td>\n",
              "      <td>7.6</td>\n",
              "      <td>0.0</td>\n",
              "      <td>4.970664</td>\n",
              "      <td>0.0</td>\n",
              "      <td>97.2</td>\n",
              "      <td>68.7</td>\n",
              "      <td>18.8</td>\n",
              "      <td>4.0</td>\n",
              "      <td>0.4</td>\n",
              "    </tr>\n",
              "    <tr>\n",
              "      <th>15</th>\n",
              "      <td>16.0</td>\n",
              "      <td>0.5</td>\n",
              "      <td>0.0</td>\n",
              "      <td>6.133090</td>\n",
              "      <td>0.0</td>\n",
              "      <td>100.0</td>\n",
              "      <td>72.2</td>\n",
              "      <td>18.5</td>\n",
              "      <td>3.0</td>\n",
              "      <td>0.4</td>\n",
              "    </tr>\n",
              "    <tr>\n",
              "      <th>16</th>\n",
              "      <td>17.0</td>\n",
              "      <td>7.8</td>\n",
              "      <td>0.0</td>\n",
              "      <td>6.056352</td>\n",
              "      <td>0.0</td>\n",
              "      <td>97.3</td>\n",
              "      <td>69.3</td>\n",
              "      <td>19.0</td>\n",
              "      <td>5.5</td>\n",
              "      <td>0.5</td>\n",
              "    </tr>\n",
              "    <tr>\n",
              "      <th>17</th>\n",
              "      <td>18.0</td>\n",
              "      <td>8.3</td>\n",
              "      <td>0.0</td>\n",
              "      <td>6.337872</td>\n",
              "      <td>0.0</td>\n",
              "      <td>89.9</td>\n",
              "      <td>97.3</td>\n",
              "      <td>12.6</td>\n",
              "      <td>7.8</td>\n",
              "      <td>0.4</td>\n",
              "    </tr>\n",
              "    <tr>\n",
              "      <th>18</th>\n",
              "      <td>19.0</td>\n",
              "      <td>8.3</td>\n",
              "      <td>0.0</td>\n",
              "      <td>6.151644</td>\n",
              "      <td>4.2</td>\n",
              "      <td>100.0</td>\n",
              "      <td>62.6</td>\n",
              "      <td>18.0</td>\n",
              "      <td>2.5</td>\n",
              "      <td>0.3</td>\n",
              "    </tr>\n",
              "    <tr>\n",
              "      <th>19</th>\n",
              "      <td>20.0</td>\n",
              "      <td>6.7</td>\n",
              "      <td>0.0</td>\n",
              "      <td>6.785856</td>\n",
              "      <td>0.0</td>\n",
              "      <td>92.8</td>\n",
              "      <td>62.3</td>\n",
              "      <td>19.0</td>\n",
              "      <td>3.6</td>\n",
              "      <td>0.6</td>\n",
              "    </tr>\n",
              "  </tbody>\n",
              "</table>\n",
              "</div>\n",
              "      <button class=\"colab-df-convert\" onclick=\"convertToInteractive('df-735ca688-504b-45ba-afaf-fb2a51184c0a')\"\n",
              "              title=\"Convert this dataframe to an interactive table.\"\n",
              "              style=\"display:none;\">\n",
              "        \n",
              "  <svg xmlns=\"http://www.w3.org/2000/svg\" height=\"24px\"viewBox=\"0 0 24 24\"\n",
              "       width=\"24px\">\n",
              "    <path d=\"M0 0h24v24H0V0z\" fill=\"none\"/>\n",
              "    <path d=\"M18.56 5.44l.94 2.06.94-2.06 2.06-.94-2.06-.94-.94-2.06-.94 2.06-2.06.94zm-11 1L8.5 8.5l.94-2.06 2.06-.94-2.06-.94L8.5 2.5l-.94 2.06-2.06.94zm10 10l.94 2.06.94-2.06 2.06-.94-2.06-.94-.94-2.06-.94 2.06-2.06.94z\"/><path d=\"M17.41 7.96l-1.37-1.37c-.4-.4-.92-.59-1.43-.59-.52 0-1.04.2-1.43.59L10.3 9.45l-7.72 7.72c-.78.78-.78 2.05 0 2.83L4 21.41c.39.39.9.59 1.41.59.51 0 1.02-.2 1.41-.59l7.78-7.78 2.81-2.81c.8-.78.8-2.07 0-2.86zM5.41 20L4 18.59l7.72-7.72 1.47 1.35L5.41 20z\"/>\n",
              "  </svg>\n",
              "      </button>\n",
              "      \n",
              "  <style>\n",
              "    .colab-df-container {\n",
              "      display:flex;\n",
              "      flex-wrap:wrap;\n",
              "      gap: 12px;\n",
              "    }\n",
              "\n",
              "    .colab-df-convert {\n",
              "      background-color: #E8F0FE;\n",
              "      border: none;\n",
              "      border-radius: 50%;\n",
              "      cursor: pointer;\n",
              "      display: none;\n",
              "      fill: #1967D2;\n",
              "      height: 32px;\n",
              "      padding: 0 0 0 0;\n",
              "      width: 32px;\n",
              "    }\n",
              "\n",
              "    .colab-df-convert:hover {\n",
              "      background-color: #E2EBFA;\n",
              "      box-shadow: 0px 1px 2px rgba(60, 64, 67, 0.3), 0px 1px 3px 1px rgba(60, 64, 67, 0.15);\n",
              "      fill: #174EA6;\n",
              "    }\n",
              "\n",
              "    [theme=dark] .colab-df-convert {\n",
              "      background-color: #3B4455;\n",
              "      fill: #D2E3FC;\n",
              "    }\n",
              "\n",
              "    [theme=dark] .colab-df-convert:hover {\n",
              "      background-color: #434B5C;\n",
              "      box-shadow: 0px 1px 3px 1px rgba(0, 0, 0, 0.15);\n",
              "      filter: drop-shadow(0px 1px 2px rgba(0, 0, 0, 0.3));\n",
              "      fill: #FFFFFF;\n",
              "    }\n",
              "  </style>\n",
              "\n",
              "      <script>\n",
              "        const buttonEl =\n",
              "          document.querySelector('#df-735ca688-504b-45ba-afaf-fb2a51184c0a button.colab-df-convert');\n",
              "        buttonEl.style.display =\n",
              "          google.colab.kernel.accessAllowed ? 'block' : 'none';\n",
              "\n",
              "        async function convertToInteractive(key) {\n",
              "          const element = document.querySelector('#df-735ca688-504b-45ba-afaf-fb2a51184c0a');\n",
              "          const dataTable =\n",
              "            await google.colab.kernel.invokeFunction('convertToInteractive',\n",
              "                                                     [key], {});\n",
              "          if (!dataTable) return;\n",
              "\n",
              "          const docLinkHtml = 'Like what you see? Visit the ' +\n",
              "            '<a target=\"_blank\" href=https://colab.research.google.com/notebooks/data_table.ipynb>data table notebook</a>'\n",
              "            + ' to learn more about interactive tables.';\n",
              "          element.innerHTML = '';\n",
              "          dataTable['output_type'] = 'display_data';\n",
              "          await google.colab.output.renderOutput(dataTable, element);\n",
              "          const docLink = document.createElement('div');\n",
              "          docLink.innerHTML = docLinkHtml;\n",
              "          element.appendChild(docLink);\n",
              "        }\n",
              "      </script>\n",
              "    </div>\n",
              "  </div>\n",
              "  "
            ]
          },
          "metadata": {},
          "execution_count": 5
        }
      ]
    },
    {
      "cell_type": "code",
      "source": [
        "import matplotlib.pyplot as plt\n",
        "from sklearn.metrics import mean_squared_error\n",
        "from sklearn import preprocessing"
      ],
      "metadata": {
        "id": "rJ_LAE9EK5M4"
      },
      "execution_count": null,
      "outputs": []
    },
    {
      "cell_type": "code",
      "source": [
        "df.shape"
      ],
      "metadata": {
        "colab": {
          "base_uri": "https://localhost:8080/"
        },
        "id": "Hj6i0Uk_RSUC",
        "outputId": "876a1d7d-74e8-43ee-f80e-b57860f4a927"
      },
      "execution_count": null,
      "outputs": [
        {
          "output_type": "execute_result",
          "data": {
            "text/plain": [
              "(365, 10)"
            ]
          },
          "metadata": {},
          "execution_count": 8
        }
      ]
    },
    {
      "cell_type": "code",
      "source": [
        "df_columns = df.columns.tolist()\n",
        "df[df_columns].isnull().sum()"
      ],
      "metadata": {
        "colab": {
          "base_uri": "https://localhost:8080/"
        },
        "id": "TvIygzbiWzfB",
        "outputId": "c8823922-d3de-4576-8ce3-51655426dc4f"
      },
      "execution_count": null,
      "outputs": [
        {
          "output_type": "execute_result",
          "data": {
            "text/plain": [
              "S.No                   0\n",
              "Susshine_Hour_(n)      0\n",
              "Daylength(N)           0\n",
              "Radiation MJ/M2/Day    0\n",
              "Rainfall (mm)          0\n",
              "R.H(8:45)              0\n",
              "R.H(17:45)             0\n",
              "T.max                  0\n",
              "T.min                  0\n",
              "Wind Speed             0\n",
              "dtype: int64"
            ]
          },
          "metadata": {},
          "execution_count": 9
        }
      ]
    },
    {
      "cell_type": "markdown",
      "source": [
        "DATA VISUALIZATION\n"
      ],
      "metadata": {
        "id": "NEeIjQG5bo6N"
      }
    },
    {
      "cell_type": "code",
      "source": [
        "df['Susshine_Hour_(n)'] = df['Susshine_Hour_(n)'].replace(['DNA'],0)"
      ],
      "metadata": {
        "id": "radiE2ztd3-5"
      },
      "execution_count": null,
      "outputs": []
    },
    {
      "cell_type": "code",
      "source": [
        "df['R.H(8:45)'] = df['R.H(8:45)'].replace(['DNA'],0)\n",
        "df.head()"
      ],
      "metadata": {
        "colab": {
          "base_uri": "https://localhost:8080/",
          "height": 206
        },
        "id": "pqp54xoTeJWS",
        "outputId": "81e9a3ce-f29c-4fd6-c321-24492bbcace5"
      },
      "execution_count": null,
      "outputs": [
        {
          "output_type": "execute_result",
          "data": {
            "text/plain": [
              "   S.No  Susshine_Hour_(n)  Daylength(N)  Radiation MJ/M2/Day Rainfall (mm)  \\\n",
              "0   1.0                0.0           0.0             5.165280           0.0   \n",
              "1   2.0                3.3           0.0             5.033088           0.0   \n",
              "2   3.0                1.0           0.0             5.278930           0.0   \n",
              "3   4.0                4.8           0.0             6.117552           0.0   \n",
              "4   5.0                4.6           0.0             6.509232           0.0   \n",
              "\n",
              "   R.H(8:45)  R.H(17:45)  T.max  T.min  Wind Speed  \n",
              "0       86.1        57.1   20.0    2.5       -99.9  \n",
              "1       88.2        65.0   19.0    2.0         1.5  \n",
              "2       96.8        71.8   18.0    1.8         0.7  \n",
              "3       88.9        76.9   17.0    4.4         0.4  \n",
              "4       91.2        61.4   18.2    4.0         0.6  "
            ],
            "text/html": [
              "\n",
              "  <div id=\"df-aa1bd84c-d864-4e0d-a9c2-aa388d8698c5\">\n",
              "    <div class=\"colab-df-container\">\n",
              "      <div>\n",
              "<style scoped>\n",
              "    .dataframe tbody tr th:only-of-type {\n",
              "        vertical-align: middle;\n",
              "    }\n",
              "\n",
              "    .dataframe tbody tr th {\n",
              "        vertical-align: top;\n",
              "    }\n",
              "\n",
              "    .dataframe thead th {\n",
              "        text-align: right;\n",
              "    }\n",
              "</style>\n",
              "<table border=\"1\" class=\"dataframe\">\n",
              "  <thead>\n",
              "    <tr style=\"text-align: right;\">\n",
              "      <th></th>\n",
              "      <th>S.No</th>\n",
              "      <th>Susshine_Hour_(n)</th>\n",
              "      <th>Daylength(N)</th>\n",
              "      <th>Radiation MJ/M2/Day</th>\n",
              "      <th>Rainfall (mm)</th>\n",
              "      <th>R.H(8:45)</th>\n",
              "      <th>R.H(17:45)</th>\n",
              "      <th>T.max</th>\n",
              "      <th>T.min</th>\n",
              "      <th>Wind Speed</th>\n",
              "    </tr>\n",
              "  </thead>\n",
              "  <tbody>\n",
              "    <tr>\n",
              "      <th>0</th>\n",
              "      <td>1.0</td>\n",
              "      <td>0.0</td>\n",
              "      <td>0.0</td>\n",
              "      <td>5.165280</td>\n",
              "      <td>0.0</td>\n",
              "      <td>86.1</td>\n",
              "      <td>57.1</td>\n",
              "      <td>20.0</td>\n",
              "      <td>2.5</td>\n",
              "      <td>-99.9</td>\n",
              "    </tr>\n",
              "    <tr>\n",
              "      <th>1</th>\n",
              "      <td>2.0</td>\n",
              "      <td>3.3</td>\n",
              "      <td>0.0</td>\n",
              "      <td>5.033088</td>\n",
              "      <td>0.0</td>\n",
              "      <td>88.2</td>\n",
              "      <td>65.0</td>\n",
              "      <td>19.0</td>\n",
              "      <td>2.0</td>\n",
              "      <td>1.5</td>\n",
              "    </tr>\n",
              "    <tr>\n",
              "      <th>2</th>\n",
              "      <td>3.0</td>\n",
              "      <td>1.0</td>\n",
              "      <td>0.0</td>\n",
              "      <td>5.278930</td>\n",
              "      <td>0.0</td>\n",
              "      <td>96.8</td>\n",
              "      <td>71.8</td>\n",
              "      <td>18.0</td>\n",
              "      <td>1.8</td>\n",
              "      <td>0.7</td>\n",
              "    </tr>\n",
              "    <tr>\n",
              "      <th>3</th>\n",
              "      <td>4.0</td>\n",
              "      <td>4.8</td>\n",
              "      <td>0.0</td>\n",
              "      <td>6.117552</td>\n",
              "      <td>0.0</td>\n",
              "      <td>88.9</td>\n",
              "      <td>76.9</td>\n",
              "      <td>17.0</td>\n",
              "      <td>4.4</td>\n",
              "      <td>0.4</td>\n",
              "    </tr>\n",
              "    <tr>\n",
              "      <th>4</th>\n",
              "      <td>5.0</td>\n",
              "      <td>4.6</td>\n",
              "      <td>0.0</td>\n",
              "      <td>6.509232</td>\n",
              "      <td>0.0</td>\n",
              "      <td>91.2</td>\n",
              "      <td>61.4</td>\n",
              "      <td>18.2</td>\n",
              "      <td>4.0</td>\n",
              "      <td>0.6</td>\n",
              "    </tr>\n",
              "  </tbody>\n",
              "</table>\n",
              "</div>\n",
              "      <button class=\"colab-df-convert\" onclick=\"convertToInteractive('df-aa1bd84c-d864-4e0d-a9c2-aa388d8698c5')\"\n",
              "              title=\"Convert this dataframe to an interactive table.\"\n",
              "              style=\"display:none;\">\n",
              "        \n",
              "  <svg xmlns=\"http://www.w3.org/2000/svg\" height=\"24px\"viewBox=\"0 0 24 24\"\n",
              "       width=\"24px\">\n",
              "    <path d=\"M0 0h24v24H0V0z\" fill=\"none\"/>\n",
              "    <path d=\"M18.56 5.44l.94 2.06.94-2.06 2.06-.94-2.06-.94-.94-2.06-.94 2.06-2.06.94zm-11 1L8.5 8.5l.94-2.06 2.06-.94-2.06-.94L8.5 2.5l-.94 2.06-2.06.94zm10 10l.94 2.06.94-2.06 2.06-.94-2.06-.94-.94-2.06-.94 2.06-2.06.94z\"/><path d=\"M17.41 7.96l-1.37-1.37c-.4-.4-.92-.59-1.43-.59-.52 0-1.04.2-1.43.59L10.3 9.45l-7.72 7.72c-.78.78-.78 2.05 0 2.83L4 21.41c.39.39.9.59 1.41.59.51 0 1.02-.2 1.41-.59l7.78-7.78 2.81-2.81c.8-.78.8-2.07 0-2.86zM5.41 20L4 18.59l7.72-7.72 1.47 1.35L5.41 20z\"/>\n",
              "  </svg>\n",
              "      </button>\n",
              "      \n",
              "  <style>\n",
              "    .colab-df-container {\n",
              "      display:flex;\n",
              "      flex-wrap:wrap;\n",
              "      gap: 12px;\n",
              "    }\n",
              "\n",
              "    .colab-df-convert {\n",
              "      background-color: #E8F0FE;\n",
              "      border: none;\n",
              "      border-radius: 50%;\n",
              "      cursor: pointer;\n",
              "      display: none;\n",
              "      fill: #1967D2;\n",
              "      height: 32px;\n",
              "      padding: 0 0 0 0;\n",
              "      width: 32px;\n",
              "    }\n",
              "\n",
              "    .colab-df-convert:hover {\n",
              "      background-color: #E2EBFA;\n",
              "      box-shadow: 0px 1px 2px rgba(60, 64, 67, 0.3), 0px 1px 3px 1px rgba(60, 64, 67, 0.15);\n",
              "      fill: #174EA6;\n",
              "    }\n",
              "\n",
              "    [theme=dark] .colab-df-convert {\n",
              "      background-color: #3B4455;\n",
              "      fill: #D2E3FC;\n",
              "    }\n",
              "\n",
              "    [theme=dark] .colab-df-convert:hover {\n",
              "      background-color: #434B5C;\n",
              "      box-shadow: 0px 1px 3px 1px rgba(0, 0, 0, 0.15);\n",
              "      filter: drop-shadow(0px 1px 2px rgba(0, 0, 0, 0.3));\n",
              "      fill: #FFFFFF;\n",
              "    }\n",
              "  </style>\n",
              "\n",
              "      <script>\n",
              "        const buttonEl =\n",
              "          document.querySelector('#df-aa1bd84c-d864-4e0d-a9c2-aa388d8698c5 button.colab-df-convert');\n",
              "        buttonEl.style.display =\n",
              "          google.colab.kernel.accessAllowed ? 'block' : 'none';\n",
              "\n",
              "        async function convertToInteractive(key) {\n",
              "          const element = document.querySelector('#df-aa1bd84c-d864-4e0d-a9c2-aa388d8698c5');\n",
              "          const dataTable =\n",
              "            await google.colab.kernel.invokeFunction('convertToInteractive',\n",
              "                                                     [key], {});\n",
              "          if (!dataTable) return;\n",
              "\n",
              "          const docLinkHtml = 'Like what you see? Visit the ' +\n",
              "            '<a target=\"_blank\" href=https://colab.research.google.com/notebooks/data_table.ipynb>data table notebook</a>'\n",
              "            + ' to learn more about interactive tables.';\n",
              "          element.innerHTML = '';\n",
              "          dataTable['output_type'] = 'display_data';\n",
              "          await google.colab.output.renderOutput(dataTable, element);\n",
              "          const docLink = document.createElement('div');\n",
              "          docLink.innerHTML = docLinkHtml;\n",
              "          element.appendChild(docLink);\n",
              "        }\n",
              "      </script>\n",
              "    </div>\n",
              "  </div>\n",
              "  "
            ]
          },
          "metadata": {},
          "execution_count": 11
        }
      ]
    },
    {
      "cell_type": "code",
      "source": [
        "import seaborn as sns\n",
        "sns.heatmap(df.corr());"
      ],
      "metadata": {
        "colab": {
          "base_uri": "https://localhost:8080/",
          "height": 363
        },
        "id": "dkQdjdaAXCFn",
        "outputId": "af93efb7-407f-4d6e-9d0b-3f441cf10c2a"
      },
      "execution_count": null,
      "outputs": [
        {
          "output_type": "display_data",
          "data": {
            "text/plain": [
              "<Figure size 432x288 with 2 Axes>"
            ],
            "image/png": "[encoded data removed]"
          },
          "metadata": {
            "needs_background": "light"
          }
        }
      ]
    },
    {
      "cell_type": "code",
      "source": [
        "df['Radiation MJ/M2/Day'].plot()"
      ],
      "metadata": {
        "colab": {
          "base_uri": "https://localhost:8080/",
          "height": 282
        },
        "id": "ImT6q0jeYSCV",
        "outputId": "102f49b8-f5c8-468e-ca74-750a5f28ed0b"
      },
      "execution_count": null,
      "outputs": [
        {
          "output_type": "execute_result",
          "data": {
            "text/plain": [
              "<matplotlib.axes._subplots.AxesSubplot at 0x7fd3aff935d0>"
            ]
          },
          "metadata": {},
          "execution_count": 13
        },
        {
          "output_type": "display_data",
          "data": {
            "text/plain": [
              "<Figure size 432x288 with 1 Axes>"
            ],
            "image/png": "[encoded data removed]"
          },
          "metadata": {
            "needs_background": "light"
          }
        }
      ]
    },
    {
      "cell_type": "code",
      "source": [
        "df['Radiation MJ/M2/Day'].hist()"
      ],
      "metadata": {
        "colab": {
          "base_uri": "https://localhost:8080/",
          "height": 282
        },
        "id": "B0rHLCuOaO1y",
        "outputId": "93b679f0-d24e-49bf-9de0-212482f1600b"
      },
      "execution_count": null,
      "outputs": [
        {
          "output_type": "execute_result",
          "data": {
            "text/plain": [
              "<matplotlib.axes._subplots.AxesSubplot at 0x7fd3b0476610>"
            ]
          },
          "metadata": {},
          "execution_count": 14
        },
        {
          "output_type": "display_data",
          "data": {
            "text/plain": [
              "<Figure size 432x288 with 1 Axes>"
            ],
            "image/png": "[encoded data removed]"
          },
          "metadata": {
            "needs_background": "light"
          }
        }
      ]
    },
    {
      "cell_type": "code",
      "source": [
        "ax = plt.axes()\n",
        "sns.barplot(x=\"Susshine_Hour_(n)\", y='Radiation MJ/M2/Day', data=df, palette=\"BuPu\", ax = ax)\n",
        "ax.set_title('Mean Radiation by Susshine_Hour')\n",
        "plt.show()"
      ],
      "metadata": {
        "colab": {
          "base_uri": "https://localhost:8080/",
          "height": 296
        },
        "id": "vPqJ1vrsbOTq",
        "outputId": "0a52be04-1475-46c9-a266-7cc8afbc20b0"
      },
      "execution_count": null,
      "outputs": [
        {
          "output_type": "display_data",
          "data": {
            "text/plain": [
              "<Figure size 432x288 with 1 Axes>"
            ],
            "image/png": "[encoded data removed]"
          },
          "metadata": {
            "needs_background": "light"
          }
        }
      ]
    },
    {
      "cell_type": "code",
      "source": [
        "ax = plt.axes()\n",
        "sns.barplot(x=\"Susshine_Hour_(n)\", y='R.H(8:45)', data=df, palette=(\"coolwarm\"), ax = ax)\n",
        "ax.set_title('R.H(8:45) by Susshine_Hour_(n)')\n",
        "plt.show()"
      ],
      "metadata": {
        "colab": {
          "base_uri": "https://localhost:8080/",
          "height": 296
        },
        "id": "hG9R2MYubv4m",
        "outputId": "835429c0-285a-47b6-9655-264ab0570f54"
      },
      "execution_count": null,
      "outputs": [
        {
          "output_type": "display_data",
          "data": {
            "text/plain": [
              "<Figure size 432x288 with 1 Axes>"
            ],
            "image/png": "[encoded data removed]"
          },
          "metadata": {
            "needs_background": "light"
          }
        }
      ]
    },
    {
      "cell_type": "code",
      "source": [
        "ax = plt.axes()\n",
        "sns.barplot(x=\"Susshine_Hour_(n)\", y='R.H(17:45)', data=df, palette=(\"coolwarm\"), ax = ax)\n",
        "ax.set_title('R.H(8:45) by Susshine_Hour_(n)')\n",
        "plt.show()"
      ],
      "metadata": {
        "colab": {
          "base_uri": "https://localhost:8080/",
          "height": 296
        },
        "id": "x_gcglT6edbf",
        "outputId": "f9fa2d39-2a51-4457-b00f-eacf7b3da4ce"
      },
      "execution_count": null,
      "outputs": [
        {
          "output_type": "display_data",
          "data": {
            "text/plain": [
              "<Figure size 432x288 with 1 Axes>"
            ],
            "image/png": "[encoded data removed]"
          },
          "metadata": {
            "needs_background": "light"
          }
        }
      ]
    },
    {
      "cell_type": "code",
      "source": [
        "g = sns.jointplot(x=\"Radiation MJ/M2/Day\", y=\"T.max\", data=df)\n",
        "plt.subplots_adjust(top=0.9)\n",
        "g.fig.suptitle('Temp max vs. Radiation')"
      ],
      "metadata": {
        "colab": {
          "base_uri": "https://localhost:8080/",
          "height": 460
        },
        "id": "IjFhBvkxeu5W",
        "outputId": "21419aac-73d3-4f4b-c9c3-11a5f317a3c4"
      },
      "execution_count": null,
      "outputs": [
        {
          "output_type": "execute_result",
          "data": {
            "text/plain": [
              "Text(0.5, 0.98, 'Temp max vs. Radiation')"
            ]
          },
          "metadata": {},
          "execution_count": 18
        },
        {
          "output_type": "display_data",
          "data": {
            "text/plain": [
              "<Figure size 432x432 with 3 Axes>"
            ],
            "image/png": "[encoded data removed]"
          },
          "metadata": {
            "needs_background": "light"
          }
        }
      ]
    },
    {
      "cell_type": "code",
      "source": [
        "g = sns.jointplot(x=\"Radiation MJ/M2/Day\", y=\"T.min\", data=df)\n",
        "plt.subplots_adjust(top=0.9)\n",
        "g.fig.suptitle('Temp min vs. Radiation')"
      ],
      "metadata": {
        "colab": {
          "base_uri": "https://localhost:8080/",
          "height": 460
        },
        "id": "7JxP-U0Ke_5T",
        "outputId": "b48ff15d-5468-4174-a151-48aab380b986"
      },
      "execution_count": null,
      "outputs": [
        {
          "output_type": "execute_result",
          "data": {
            "text/plain": [
              "Text(0.5, 0.98, 'Temp min vs. Radiation')"
            ]
          },
          "metadata": {},
          "execution_count": 19
        },
        {
          "output_type": "display_data",
          "data": {
            "text/plain": [
              "<Figure size 432x432 with 3 Axes>"
            ],
            "image/png": "[encoded data removed]"
          },
          "metadata": {
            "needs_background": "light"
          }
        }
      ]
    },
    {
      "cell_type": "code",
      "source": [
        "#using xgboost\n",
        "import xgboost as xgb\n",
        "from xgboost import plot_importance, plot_tree\n",
        "from sklearn.model_selection import train_test_split"
      ],
      "metadata": {
        "id": "xE1h2f5df6Vn"
      },
      "execution_count": null,
      "outputs": []
    },
    {
      "cell_type": "code",
      "source": [
        "df['Susshine_Hour_(n)'] = df['Susshine_Hour_(n)'].astype(float)"
      ],
      "metadata": {
        "id": "EJ_WqDZDorxc"
      },
      "execution_count": null,
      "outputs": []
    },
    {
      "cell_type": "code",
      "source": [
        "final_data=df.drop(['S.No','Daylength(N)','Rainfall (mm)'],axis=1)\n",
        "print(final_data)"
      ],
      "metadata": {
        "colab": {
          "base_uri": "https://localhost:8080/"
        },
        "id": "7AJoGv-9geJ9",
        "outputId": "52bada47-7760-4c48-aee7-971165d9259c"
      },
      "execution_count": null,
      "outputs": [
        {
          "output_type": "stream",
          "name": "stdout",
          "text": [
            "     Susshine_Hour_(n)  Radiation MJ/M2/Day  R.H(8:45)  R.H(17:45)  T.max  \\\n",
            "0                  0.0             5.165280       86.1        57.1   20.0   \n",
            "1                  3.3             5.033088       88.2        65.0   19.0   \n",
            "2                  1.0             5.278930       96.8        71.8   18.0   \n",
            "3                  4.8             6.117552       88.9        76.9   17.0   \n",
            "4                  4.6             6.509232       91.2        61.4   18.2   \n",
            "..                 ...                  ...        ...         ...    ...   \n",
            "360                7.4             0.000000       97.0        76.9   18.0   \n",
            "361                7.4             0.000000       97.1        68.7   19.5   \n",
            "362                7.5             0.000000       97.1        60.8   21.0   \n",
            "363                8.0             0.000000       94.1        61.6   21.0   \n",
            "364                5.3             0.000000       94.0        56.5   21.2   \n",
            "\n",
            "     T.min  Wind Speed  \n",
            "0      2.5       -99.9  \n",
            "1      2.0         1.5  \n",
            "2      1.8         0.7  \n",
            "3      4.4         0.4  \n",
            "4      4.0         0.6  \n",
            "..     ...         ...  \n",
            "360    2.5         0.4  \n",
            "361    2.6         0.3  \n",
            "362    2.5         0.3  \n",
            "363    2.5         0.4  \n",
            "364    2.4         0.4  \n",
            "\n",
            "[365 rows x 7 columns]\n"
          ]
        }
      ]
    },
    {
      "cell_type": "code",
      "source": [
        "final_y=final_data.pop('Radiation MJ/M2/Day')\n"
      ],
      "metadata": {
        "id": "l3nL3EXPg6g8"
      },
      "execution_count": null,
      "outputs": []
    },
    {
      "cell_type": "code",
      "source": [
        "print(final_y)"
      ],
      "metadata": {
        "colab": {
          "base_uri": "https://localhost:8080/"
        },
        "id": "rGXOurGHn3Oz",
        "outputId": "f44209bb-a91f-4ceb-f11d-cf82809ca360"
      },
      "execution_count": null,
      "outputs": [
        {
          "output_type": "stream",
          "name": "stdout",
          "text": [
            "0      5.165280\n",
            "1      5.033088\n",
            "2      5.278930\n",
            "3      6.117552\n",
            "4      6.509232\n",
            "         ...   \n",
            "360    0.000000\n",
            "361    0.000000\n",
            "362    0.000000\n",
            "363    0.000000\n",
            "364    0.000000\n",
            "Name: Radiation MJ/M2/Day, Length: 365, dtype: float64\n"
          ]
        }
      ]
    },
    {
      "cell_type": "code",
      "source": [
        "final_x=final_data\n",
        "print(final_x)"
      ],
      "metadata": {
        "colab": {
          "base_uri": "https://localhost:8080/"
        },
        "id": "I76-IbQihHBL",
        "outputId": "6f3d3c2f-791e-4c32-f96d-9af388f2b0fd"
      },
      "execution_count": null,
      "outputs": [
        {
          "output_type": "stream",
          "name": "stdout",
          "text": [
            "     Susshine_Hour_(n)  R.H(8:45)  R.H(17:45)  T.max  T.min  Wind Speed\n",
            "0                  0.0       86.1        57.1   20.0    2.5       -99.9\n",
            "1                  3.3       88.2        65.0   19.0    2.0         1.5\n",
            "2                  1.0       96.8        71.8   18.0    1.8         0.7\n",
            "3                  4.8       88.9        76.9   17.0    4.4         0.4\n",
            "4                  4.6       91.2        61.4   18.2    4.0         0.6\n",
            "..                 ...        ...         ...    ...    ...         ...\n",
            "360                7.4       97.0        76.9   18.0    2.5         0.4\n",
            "361                7.4       97.1        68.7   19.5    2.6         0.3\n",
            "362                7.5       97.1        60.8   21.0    2.5         0.3\n",
            "363                8.0       94.1        61.6   21.0    2.5         0.4\n",
            "364                5.3       94.0        56.5   21.2    2.4         0.4\n",
            "\n",
            "[365 rows x 6 columns]\n"
          ]
        }
      ]
    },
    {
      "cell_type": "code",
      "source": [
        "import xgboost as xgb\n",
        "from sklearn.model_selection import train_test_split\n",
        "X_train, X_test, y_train, y_test = train_test_split(final_x, final_y, test_size=0.33, random_state=42)\n",
        "X_train.head()"
      ],
      "metadata": {
        "colab": {
          "base_uri": "https://localhost:8080/",
          "height": 206
        },
        "id": "g_Kbz1eohITv",
        "outputId": "3e62dcb4-ef5f-48ee-9f70-b42185cb155d"
      },
      "execution_count": null,
      "outputs": [
        {
          "output_type": "execute_result",
          "data": {
            "text/plain": [
              "     Susshine_Hour_(n)  R.H(8:45)  R.H(17:45)  T.max  T.min  Wind Speed\n",
              "118                0.0       55.1        55.3   31.7   15.4         1.2\n",
              "31                 8.4       78.3        61.7   21.0    4.5         0.7\n",
              "36                 7.9       94.3        61.9   21.5    4.5         0.8\n",
              "285                0.0       88.7        96.0   28.0   14.6         0.3\n",
              "181                5.3       76.6        76.9   30.0   19.0         0.4"
            ],
            "text/html": [
              "\n",
              "  <div id=\"df-7ea619f5-ebb3-4332-96b3-2feee244d590\">\n",
              "    <div class=\"colab-df-container\">\n",
              "      <div>\n",
              "<style scoped>\n",
              "    .dataframe tbody tr th:only-of-type {\n",
              "        vertical-align: middle;\n",
              "    }\n",
              "\n",
              "    .dataframe tbody tr th {\n",
              "        vertical-align: top;\n",
              "    }\n",
              "\n",
              "    .dataframe thead th {\n",
              "        text-align: right;\n",
              "    }\n",
              "</style>\n",
              "<table border=\"1\" class=\"dataframe\">\n",
              "  <thead>\n",
              "    <tr style=\"text-align: right;\">\n",
              "      <th></th>\n",
              "      <th>Susshine_Hour_(n)</th>\n",
              "      <th>R.H(8:45)</th>\n",
              "      <th>R.H(17:45)</th>\n",
              "      <th>T.max</th>\n",
              "      <th>T.min</th>\n",
              "      <th>Wind Speed</th>\n",
              "    </tr>\n",
              "  </thead>\n",
              "  <tbody>\n",
              "    <tr>\n",
              "      <th>118</th>\n",
              "      <td>0.0</td>\n",
              "      <td>55.1</td>\n",
              "      <td>55.3</td>\n",
              "      <td>31.7</td>\n",
              "      <td>15.4</td>\n",
              "      <td>1.2</td>\n",
              "    </tr>\n",
              "    <tr>\n",
              "      <th>31</th>\n",
              "      <td>8.4</td>\n",
              "      <td>78.3</td>\n",
              "      <td>61.7</td>\n",
              "      <td>21.0</td>\n",
              "      <td>4.5</td>\n",
              "      <td>0.7</td>\n",
              "    </tr>\n",
              "    <tr>\n",
              "      <th>36</th>\n",
              "      <td>7.9</td>\n",
              "      <td>94.3</td>\n",
              "      <td>61.9</td>\n",
              "      <td>21.5</td>\n",
              "      <td>4.5</td>\n",
              "      <td>0.8</td>\n",
              "    </tr>\n",
              "    <tr>\n",
              "      <th>285</th>\n",
              "      <td>0.0</td>\n",
              "      <td>88.7</td>\n",
              "      <td>96.0</td>\n",
              "      <td>28.0</td>\n",
              "      <td>14.6</td>\n",
              "      <td>0.3</td>\n",
              "    </tr>\n",
              "    <tr>\n",
              "      <th>181</th>\n",
              "      <td>5.3</td>\n",
              "      <td>76.6</td>\n",
              "      <td>76.9</td>\n",
              "      <td>30.0</td>\n",
              "      <td>19.0</td>\n",
              "      <td>0.4</td>\n",
              "    </tr>\n",
              "  </tbody>\n",
              "</table>\n",
              "</div>\n",
              "      <button class=\"colab-df-convert\" onclick=\"convertToInteractive('df-7ea619f5-ebb3-4332-96b3-2feee244d590')\"\n",
              "              title=\"Convert this dataframe to an interactive table.\"\n",
              "              style=\"display:none;\">\n",
              "        \n",
              "  <svg xmlns=\"http://www.w3.org/2000/svg\" height=\"24px\"viewBox=\"0 0 24 24\"\n",
              "       width=\"24px\">\n",
              "    <path d=\"M0 0h24v24H0V0z\" fill=\"none\"/>\n",
              "    <path d=\"M18.56 5.44l.94 2.06.94-2.06 2.06-.94-2.06-.94-.94-2.06-.94 2.06-2.06.94zm-11 1L8.5 8.5l.94-2.06 2.06-.94-2.06-.94L8.5 2.5l-.94 2.06-2.06.94zm10 10l.94 2.06.94-2.06 2.06-.94-2.06-.94-.94-2.06-.94 2.06-2.06.94z\"/><path d=\"M17.41 7.96l-1.37-1.37c-.4-.4-.92-.59-1.43-.59-.52 0-1.04.2-1.43.59L10.3 9.45l-7.72 7.72c-.78.78-.78 2.05 0 2.83L4 21.41c.39.39.9.59 1.41.59.51 0 1.02-.2 1.41-.59l7.78-7.78 2.81-2.81c.8-.78.8-2.07 0-2.86zM5.41 20L4 18.59l7.72-7.72 1.47 1.35L5.41 20z\"/>\n",
              "  </svg>\n",
              "      </button>\n",
              "      \n",
              "  <style>\n",
              "    .colab-df-container {\n",
              "      display:flex;\n",
              "      flex-wrap:wrap;\n",
              "      gap: 12px;\n",
              "    }\n",
              "\n",
              "    .colab-df-convert {\n",
              "      background-color: #E8F0FE;\n",
              "      border: none;\n",
              "      border-radius: 50%;\n",
              "      cursor: pointer;\n",
              "      display: none;\n",
              "      fill: #1967D2;\n",
              "      height: 32px;\n",
              "      padding: 0 0 0 0;\n",
              "      width: 32px;\n",
              "    }\n",
              "\n",
              "    .colab-df-convert:hover {\n",
              "      background-color: #E2EBFA;\n",
              "      box-shadow: 0px 1px 2px rgba(60, 64, 67, 0.3), 0px 1px 3px 1px rgba(60, 64, 67, 0.15);\n",
              "      fill: #174EA6;\n",
              "    }\n",
              "\n",
              "    [theme=dark] .colab-df-convert {\n",
              "      background-color: #3B4455;\n",
              "      fill: #D2E3FC;\n",
              "    }\n",
              "\n",
              "    [theme=dark] .colab-df-convert:hover {\n",
              "      background-color: #434B5C;\n",
              "      box-shadow: 0px 1px 3px 1px rgba(0, 0, 0, 0.15);\n",
              "      filter: drop-shadow(0px 1px 2px rgba(0, 0, 0, 0.3));\n",
              "      fill: #FFFFFF;\n",
              "    }\n",
              "  </style>\n",
              "\n",
              "      <script>\n",
              "        const buttonEl =\n",
              "          document.querySelector('#df-7ea619f5-ebb3-4332-96b3-2feee244d590 button.colab-df-convert');\n",
              "        buttonEl.style.display =\n",
              "          google.colab.kernel.accessAllowed ? 'block' : 'none';\n",
              "\n",
              "        async function convertToInteractive(key) {\n",
              "          const element = document.querySelector('#df-7ea619f5-ebb3-4332-96b3-2feee244d590');\n",
              "          const dataTable =\n",
              "            await google.colab.kernel.invokeFunction('convertToInteractive',\n",
              "                                                     [key], {});\n",
              "          if (!dataTable) return;\n",
              "\n",
              "          const docLinkHtml = 'Like what you see? Visit the ' +\n",
              "            '<a target=\"_blank\" href=https://colab.research.google.com/notebooks/data_table.ipynb>data table notebook</a>'\n",
              "            + ' to learn more about interactive tables.';\n",
              "          element.innerHTML = '';\n",
              "          dataTable['output_type'] = 'display_data';\n",
              "          await google.colab.output.renderOutput(dataTable, element);\n",
              "          const docLink = document.createElement('div');\n",
              "          docLink.innerHTML = docLinkHtml;\n",
              "          element.appendChild(docLink);\n",
              "        }\n",
              "      </script>\n",
              "    </div>\n",
              "  </div>\n",
              "  "
            ]
          },
          "metadata": {},
          "execution_count": 28
        }
      ]
    },
    {
      "cell_type": "code",
      "source": [
        "xgdmat=xgb.DMatrix(X_train,y_train)\n",
        "our_params={'eta':0.1,'seed':0,'subsample':0.8,'colsample_bytree':0.8,'objective':'reg:linear','max_depth':3,'min_child_weight':1}\n",
        "final_gb=xgb.train(our_params,xgdmat)\n",
        "tesdmat=xgb.DMatrix(X_test)\n",
        "xpredictions=final_gb.predict(tesdmat)\n",
        "print(xpredictions)"
      ],
      "metadata": {
        "colab": {
          "base_uri": "https://localhost:8080/"
        },
        "id": "96o4_guQhQx6",
        "outputId": "c5929138-5bf7-4c4e-d786-c141cd233804"
      },
      "execution_count": null,
      "outputs": [
        {
          "output_type": "stream",
          "name": "stdout",
          "text": [
            "[09:54:25] WARNING: /workspace/src/objective/regression_obj.cu:152: reg:linear is now deprecated in favor of reg:squarederror.\n",
            "[11.066619   3.9286034  5.5286627 10.564932   3.8753703 10.255636\n",
            "  7.5523844  7.2648516  9.264115   9.264115  10.51346    4.0384655\n",
            "  7.07251    4.741083   7.869787   7.4048395  4.3159175  9.819975\n",
            " 10.51346    4.532366   3.396561   6.9537063  3.9286034 11.104247\n",
            " 11.279557  11.374707  11.374707  11.477627   7.8690987  4.7625194\n",
            "  3.3874984  7.2648516  3.3395827  4.3159175 11.104247   5.1810985\n",
            "  4.575245   4.3383417 10.51346    6.591551  10.7993555  4.8820815\n",
            "  4.7175837  9.166057   5.3874283 11.374707   4.6436787  4.3748646\n",
            "  2.9933565  8.894261  11.374707   5.4663787 11.660597  11.104247\n",
            " 10.26053    8.201889   5.0372834  7.454671   6.4407578  3.9286034\n",
            " 11.104247   6.6976857  4.209027   6.3664293 11.660597   6.7453036\n",
            "  8.418588   9.351651  11.374707   6.643023   7.645005  10.992401\n",
            " 10.51346   10.992401   7.172282  10.897251   8.620386   4.142357\n",
            "  4.3159175  4.8878174  4.419926  11.660597   5.2581778  5.619936\n",
            "  5.978861   9.625114  10.51346   11.374707   7.7746463  5.3874283\n",
            " 11.164653   6.320961   7.869787  11.390137   7.2648516  9.698758\n",
            "  7.2648516  6.9176416  8.663733   4.2706537 10.992401   9.966502\n",
            "  5.9483523  6.915537   7.645187  10.4051695 10.992401   5.2581778\n",
            " 10.536631   5.566387  10.9019375 11.374707   8.711766   4.16778\n",
            " 10.415552   5.3177066 11.104247   4.875916  11.660597   7.1288266\n",
            " 11.660597 ]\n"
          ]
        }
      ]
    },
    {
      "cell_type": "code",
      "source": [
        "plt.scatter(y_test,xpredictions)\n",
        "plt.xlabel('Y Test')\n",
        "plt.ylabel('Predicted Y')"
      ],
      "metadata": {
        "colab": {
          "base_uri": "https://localhost:8080/",
          "height": 298
        },
        "id": "YY05x8P1h0XQ",
        "outputId": "d9ba64ce-95a7-4ea0-fce4-949f993d0bcd"
      },
      "execution_count": null,
      "outputs": [
        {
          "output_type": "execute_result",
          "data": {
            "text/plain": [
              "Text(0, 0.5, 'Predicted Y')"
            ]
          },
          "metadata": {},
          "execution_count": 30
        },
        {
          "output_type": "display_data",
          "data": {
            "text/plain": [
              "<Figure size 432x288 with 1 Axes>"
            ],
            "image/png": "[encoded data removed]"
          },
          "metadata": {
            "needs_background": "light"
          }
        }
      ]
    },
    {
      "cell_type": "code",
      "source": [
        "from sklearn import metrics\n",
        "from sklearn.metrics import r2_score\n",
        "print(f\"Accuracy-: {r2_score(y_test, xpredictions)}\\n\")\n",
        "print(f'MAE:', metrics.mean_absolute_error(y_test, xpredictions))\n",
        "print(f'MSE:', metrics.mean_squared_error(y_test, xpredictions))\n",
        "print(f'RMSE:', np.sqrt(metrics.mean_squared_error(y_test, xpredictions)))"
      ],
      "metadata": {
        "colab": {
          "base_uri": "https://localhost:8080/"
        },
        "id": "XqTiJejLh65X",
        "outputId": "6c80c7b5-5378-4c1a-a0dc-c38fc6c0caa0"
      },
      "execution_count": null,
      "outputs": [
        {
          "output_type": "stream",
          "name": "stdout",
          "text": [
            "Accuracy-: 0.05779017271485898\n",
            "\n",
            "MAE: 5.517472618398376\n",
            "MSE: 48.33479343129954\n",
            "RMSE: 6.952322880253731\n"
          ]
        }
      ]
    }
  ]
}